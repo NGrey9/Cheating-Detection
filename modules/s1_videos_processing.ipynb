{
 "cells": [
  {
   "cell_type": "markdown",
   "metadata": {},
   "source": [
    "Rename raw videos in each action"
   ]
  },
  {
   "cell_type": "code",
   "execution_count": 1,
   "metadata": {},
   "outputs": [],
   "source": [
    "import os\n",
    "\n",
    "videos_path  = 'data/Videos/Action1/' # for each action, small step to make it easier to go \n",
    "filenames = os.listdir(videos_path)\n",
    "filenames.sort()\n",
    "\n",
    "for index, oldname in enumerate(filenames,start=1):\n",
    "    newname = f\"action1_{index:05d}\"\n",
    "    newpath = os.path.join(videos_path,f\"{newname}.mp4\")\n",
    "    os.rename(os.path.join(videos_path,oldname),newpath)\n",
    "\n",
    "print(\"Successfully\")"
   ]
  },
  {
   "cell_type": "markdown",
   "metadata": {},
   "source": [
    "After rename videos, we will convert videos to frames"
   ]
  },
  {
   "cell_type": "code",
   "execution_count": null,
   "metadata": {},
   "outputs": [],
   "source": [
    "import cv2\n",
    "\n",
    "videos_path = 'data/Videos/Action1/'\n",
    "output_frames_path = 'data/SequentialFrames/Action1'\n",
    "\n",
    "for video in os.listdir(videos_path):\n",
    "    if video.endswith(\".mp4\"):\n",
    "        video_name = video.split('.')[0]\n",
    "        output_path = os.path.join(output_frames_path,video_name)\n",
    "        os.makedirs(output_path,exist_ok=True)\n",
    "\n",
    "        video_cap = cv2.VideoCapture(os.path.join(videos_path,video))\n",
    "        frames_count = 0\n",
    "        while True:\n",
    "            ret, frame = video_cap.read()\n",
    "            if not ret:\n",
    "                break\n",
    "            frames_count += 1\n",
    "            frame_filename = f\"{frames_count}.jpg\"\n",
    "            frame_path = os.path.join(output_path,frame_filename)\n",
    "            cv2.imwrite(frame_path,frame)\n",
    "\n",
    "        video_cap.release()\n",
    "        print(f\"Devided {video_name} into {frames_count} frames.\")\n",
    "\n"
   ]
  },
  {
   "cell_type": "markdown",
   "metadata": {},
   "source": [
    "We need remove videos after converting videos to frames in order to minimize the memory"
   ]
  },
  {
   "cell_type": "code",
   "execution_count": null,
   "metadata": {},
   "outputs": [],
   "source": [
    "# action_videos_path = 'data/Videos/Action1'\n",
    "\n",
    "# os.remove(action_videos_path)"
   ]
  }
 ],
 "metadata": {
  "kernelspec": {
   "display_name": "cheat",
   "language": "python",
   "name": "python3"
  },
  "language_info": {
   "codemirror_mode": {
    "name": "ipython",
    "version": 3
   },
   "file_extension": ".py",
   "mimetype": "text/x-python",
   "name": "python",
   "nbconvert_exporter": "python",
   "pygments_lexer": "ipython3",
   "version": "3.11.4"
  }
 },
 "nbformat": 4,
 "nbformat_minor": 2
}
