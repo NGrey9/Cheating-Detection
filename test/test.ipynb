{
 "cells": [
  {
   "cell_type": "code",
   "execution_count": 2,
   "metadata": {},
   "outputs": [],
   "source": [
    "def writeGen():\n",
    "    dictionary = {'inputs': 'a','show':False,'draw_bbox': False, 'draw_heatmap': True, 'bbox_thr': 0.3, 'nms_thr': 0.3, 'kpt_thr': 0.3, 'tracking_thr': 0.3, 'use_oks_tracking': False, 'norm_pose_2d': False, 'rebase_keypoint_height': False, 'radius': 3, 'thickness': 1, 'skeleton_style': 'mmpose', 'black_background': False, 'vis_out_dir': '/home/nhan/Desktop/DATN/repo/Action_Recogntion/Cheating-Detection/test', 'pred_out_dir': '/home/nhan/Desktop/DATN/repo/Action_Recogntion/Cheating-Detection/test'}\n",
    "    yield dictionary\n",
    "\n",
    "dic = writeGen()\n",
    "if isinstance(dic,str) and dic.startswith('webcam'):\n",
    "    print('True')\n"
   ]
  },
  {
   "cell_type": "code",
   "execution_count": 3,
   "metadata": {},
   "outputs": [
    {
     "data": {
      "text/plain": [
       "True"
      ]
     },
     "execution_count": 3,
     "metadata": {},
     "output_type": "execute_result"
    }
   ],
   "source": [
    "a = isinstance('aaa',str)\n",
    "a"
   ]
  }
 ],
 "metadata": {
  "kernelspec": {
   "display_name": "cheat",
   "language": "python",
   "name": "python3"
  },
  "language_info": {
   "codemirror_mode": {
    "name": "ipython",
    "version": 3
   },
   "file_extension": ".py",
   "mimetype": "text/x-python",
   "name": "python",
   "nbconvert_exporter": "python",
   "pygments_lexer": "ipython3",
   "version": "3.11.4"
  },
  "orig_nbformat": 4
 },
 "nbformat": 4,
 "nbformat_minor": 2
}
