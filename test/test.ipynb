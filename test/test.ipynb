{
 "cells": [
  {
   "cell_type": "code",
   "execution_count": 2,
   "metadata": {},
   "outputs": [],
   "source": [
    "def writeGen():\n",
    "    dictionary = {'inputs': 'a','show':False,'draw_bbox': False, 'draw_heatmap': True, 'bbox_thr': 0.3, 'nms_thr': 0.3, 'kpt_thr': 0.3, 'tracking_thr': 0.3, 'use_oks_tracking': False, 'norm_pose_2d': False, 'rebase_keypoint_height': False, 'radius': 3, 'thickness': 1, 'skeleton_style': 'mmpose', 'black_background': False, 'vis_out_dir': '/home/nhan/Desktop/DATN/repo/Action_Recogntion/Cheating-Detection/test', 'pred_out_dir': '/home/nhan/Desktop/DATN/repo/Action_Recogntion/Cheating-Detection/test'}\n",
    "    yield dictionary\n",
    "\n",
    "dic = writeGen()\n",
    "if isinstance(dic,str) and dic.startswith('webcam'):\n",
    "    print('True')\n"
   ]
  },
  {
   "cell_type": "code",
   "execution_count": 8,
   "metadata": {},
   "outputs": [
    {
     "name": "stdout",
     "output_type": "stream",
     "text": [
      "MoviePy - Building file /home/nhan/Desktop/a/Cheating-Detection/assets/test.gif with imageio.\n"
     ]
    },
    {
     "name": "stderr",
     "output_type": "stream",
     "text": [
      "                                                               \r"
     ]
    },
    {
     "name": "stdout",
     "output_type": "stream",
     "text": [
      "Conversion complete. GIF saved at: /home/nhan/Desktop/a/Cheating-Detection/assets/test.gif\n"
     ]
    }
   ],
   "source": [
    "from moviepy.editor import VideoFileClip\n",
    "\n",
    "def convert_video_to_gif(input_path, output_path, loop=True):\n",
    "    # Load video clip\n",
    "    clip = VideoFileClip(input_path)\n",
    "\n",
    "    # Convert video clip to GIF\n",
    "    gif_path = output_path\n",
    "    clip.write_gif(gif_path, fps=clip.fps, loop=loop)\n",
    "\n",
    "    print(f'Conversion complete. GIF saved at: {gif_path}')\n",
    "\n",
    "# Thay đổi đường dẫn của file video và file gif theo nhu cầu của bạn\n",
    "input_video_path = '/home/nhan/Desktop/a/Cheating-Detection/assets/test_1.mp4'\n",
    "output_gif_path = '/home/nhan/Desktop/a/Cheating-Detection/assets/test.gif'\n",
    "\n",
    "# Gọi hàm để chuyển đổi video thành gif\n",
    "convert_video_to_gif(input_video_path, output_gif_path)"
   ]
  }
 ],
 "metadata": {
  "kernelspec": {
   "display_name": "cheat",
   "language": "python",
   "name": "python3"
  },
  "language_info": {
   "codemirror_mode": {
    "name": "ipython",
    "version": 3
   },
   "file_extension": ".py",
   "mimetype": "text/x-python",
   "name": "python",
   "nbconvert_exporter": "python",
   "pygments_lexer": "ipython3",
   "version": "3.8.18"
  },
  "orig_nbformat": 4
 },
 "nbformat": 4,
 "nbformat_minor": 2
}
