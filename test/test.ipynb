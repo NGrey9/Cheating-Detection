{
 "cells": [
  {
   "cell_type": "code",
   "execution_count": 2,
   "metadata": {},
   "outputs": [],
   "source": [
    "def writeGen():\n",
    "    dictionary = {'inputs': 'a','show':False,'draw_bbox': False, 'draw_heatmap': True, 'bbox_thr': 0.3, 'nms_thr': 0.3, 'kpt_thr': 0.3, 'tracking_thr': 0.3, 'use_oks_tracking': False, 'norm_pose_2d': False, 'rebase_keypoint_height': False, 'radius': 3, 'thickness': 1, 'skeleton_style': 'mmpose', 'black_background': False, 'vis_out_dir': '/home/nhan/Desktop/DATN/repo/Action_Recogntion/Cheating-Detection/test', 'pred_out_dir': '/home/nhan/Desktop/DATN/repo/Action_Recogntion/Cheating-Detection/test'}\n",
    "    yield dictionary\n",
    "\n",
    "dic = writeGen()\n",
    "if isinstance(dic,str) and dic.startswith('webcam'):\n",
    "    print('True')\n"
   ]
  },
  {
   "cell_type": "code",
   "execution_count": 4,
   "metadata": {},
   "outputs": [],
   "source": [
    "import imageio\n",
    "\n",
    "video_reader = imageio.get_reader('/home/nhan/Desktop/a/Cheating-Detection/assets/test_1.mp4')\n",
    "\n",
    "# Lấy thông tin về video\n",
    "fps_video = video_reader.get_meta_data()['fps']\n",
    "\n",
    "# Chuyển đổi video thành GIF\n",
    "with imageio.get_writer('test.gif', fps=30) as gif_writer:\n",
    "    for frame in video_reader:\n",
    "        gif_writer.append_data(frame)"
   ]
  }
 ],
 "metadata": {
  "kernelspec": {
   "display_name": "cheat",
   "language": "python",
   "name": "python3"
  },
  "language_info": {
   "codemirror_mode": {
    "name": "ipython",
    "version": 3
   },
   "file_extension": ".py",
   "mimetype": "text/x-python",
   "name": "python",
   "nbconvert_exporter": "python",
   "pygments_lexer": "ipython3",
   "version": "3.8.18"
  },
  "orig_nbformat": 4
 },
 "nbformat": 4,
 "nbformat_minor": 2
}
